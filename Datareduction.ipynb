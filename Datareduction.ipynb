{
  "nbformat": 4,
  "nbformat_minor": 0,
  "metadata": {
    "colab": {
      "provenance": []
    },
    "kernelspec": {
      "name": "python3",
      "display_name": "Python 3"
    },
    "language_info": {
      "name": "python"
    }
  },
  "cells": [
    {
      "cell_type": "code",
      "execution_count": null,
      "metadata": {
        "id": "WXYeJOS0yqkV"
      },
      "outputs": [],
      "source": [
        "import torch\n",
        "import os\n",
        "import torch.nn as nn\n",
        "import torch.optim as optim\n",
        "import torchvision\n",
        "import torchvision.transforms as transforms\n",
        "import torch.nn.utils.prune as prune\n",
        "import numpy as np"
      ]
    },
    {
      "cell_type": "code",
      "source": [
        "transform = transforms.Compose([\n",
        "    transforms.ToTensor(),\n",
        "    transforms.Normalize((0.5,), (0.5,))\n",
        "])\n",
        "\n",
        "trainset = torchvision.datasets.MNIST(root='./data', train=True, download=True, transform=transform)\n",
        "trainloader = torch.utils.data.DataLoader(trainset, batch_size=64, shuffle=True)\n",
        "\n",
        "testset = torchvision.datasets.MNIST(root='./data', train=False, download=True, transform=transform)\n",
        "testloader = torch.utils.data.DataLoader(testset, batch_size=64, shuffle=False)"
      ],
      "metadata": {
        "id": "oDTP2Rw_y6WU",
        "colab": {
          "base_uri": "https://localhost:8080/"
        },
        "outputId": "19bd9cb6-80c7-4834-dbd0-c87fc5603a3e"
      },
      "execution_count": null,
      "outputs": [
        {
          "output_type": "stream",
          "name": "stdout",
          "text": [
            "Downloading http://yann.lecun.com/exdb/mnist/train-images-idx3-ubyte.gz\n",
            "Failed to download (trying next):\n",
            "HTTP Error 403: Forbidden\n",
            "\n",
            "Downloading https://ossci-datasets.s3.amazonaws.com/mnist/train-images-idx3-ubyte.gz\n",
            "Downloading https://ossci-datasets.s3.amazonaws.com/mnist/train-images-idx3-ubyte.gz to ./data/MNIST/raw/train-images-idx3-ubyte.gz\n"
          ]
        },
        {
          "output_type": "stream",
          "name": "stderr",
          "text": [
            "100%|██████████| 9912422/9912422 [00:00<00:00, 16519183.08it/s]\n"
          ]
        },
        {
          "output_type": "stream",
          "name": "stdout",
          "text": [
            "Extracting ./data/MNIST/raw/train-images-idx3-ubyte.gz to ./data/MNIST/raw\n",
            "\n",
            "Downloading http://yann.lecun.com/exdb/mnist/train-labels-idx1-ubyte.gz\n",
            "Failed to download (trying next):\n",
            "HTTP Error 403: Forbidden\n",
            "\n",
            "Downloading https://ossci-datasets.s3.amazonaws.com/mnist/train-labels-idx1-ubyte.gz\n",
            "Downloading https://ossci-datasets.s3.amazonaws.com/mnist/train-labels-idx1-ubyte.gz to ./data/MNIST/raw/train-labels-idx1-ubyte.gz\n"
          ]
        },
        {
          "output_type": "stream",
          "name": "stderr",
          "text": [
            "100%|██████████| 28881/28881 [00:00<00:00, 495314.88it/s]\n"
          ]
        },
        {
          "output_type": "stream",
          "name": "stdout",
          "text": [
            "Extracting ./data/MNIST/raw/train-labels-idx1-ubyte.gz to ./data/MNIST/raw\n",
            "\n",
            "Downloading http://yann.lecun.com/exdb/mnist/t10k-images-idx3-ubyte.gz\n",
            "Failed to download (trying next):\n",
            "HTTP Error 403: Forbidden\n",
            "\n",
            "Downloading https://ossci-datasets.s3.amazonaws.com/mnist/t10k-images-idx3-ubyte.gz\n",
            "Downloading https://ossci-datasets.s3.amazonaws.com/mnist/t10k-images-idx3-ubyte.gz to ./data/MNIST/raw/t10k-images-idx3-ubyte.gz\n"
          ]
        },
        {
          "output_type": "stream",
          "name": "stderr",
          "text": [
            "100%|██████████| 1648877/1648877 [00:00<00:00, 4479279.70it/s]\n"
          ]
        },
        {
          "output_type": "stream",
          "name": "stdout",
          "text": [
            "Extracting ./data/MNIST/raw/t10k-images-idx3-ubyte.gz to ./data/MNIST/raw\n",
            "\n",
            "Downloading http://yann.lecun.com/exdb/mnist/t10k-labels-idx1-ubyte.gz\n",
            "Failed to download (trying next):\n",
            "HTTP Error 403: Forbidden\n",
            "\n",
            "Downloading https://ossci-datasets.s3.amazonaws.com/mnist/t10k-labels-idx1-ubyte.gz\n",
            "Downloading https://ossci-datasets.s3.amazonaws.com/mnist/t10k-labels-idx1-ubyte.gz to ./data/MNIST/raw/t10k-labels-idx1-ubyte.gz\n"
          ]
        },
        {
          "output_type": "stream",
          "name": "stderr",
          "text": [
            "100%|██████████| 4542/4542 [00:00<00:00, 1781089.08it/s]"
          ]
        },
        {
          "output_type": "stream",
          "name": "stdout",
          "text": [
            "Extracting ./data/MNIST/raw/t10k-labels-idx1-ubyte.gz to ./data/MNIST/raw\n",
            "\n"
          ]
        },
        {
          "output_type": "stream",
          "name": "stderr",
          "text": [
            "\n"
          ]
        }
      ]
    },
    {
      "cell_type": "code",
      "source": [
        "class FeedForwardNN(nn.Module):\n",
        "  def __init__(self):\n",
        "    super(FeedForwardNN, self).__init__()\n",
        "    self.fc1 = nn.Linear(28*28, 512)\n",
        "    self.fc2 = nn.Linear(512, 256)\n",
        "    self.fc3 = nn.Linear(256, 128)\n",
        "    self.fc4 = nn.Linear(128, 64)\n",
        "    self.fc5 = nn.Linear(64, 10)\n",
        "    self.relu = nn.ReLU()\n",
        "\n",
        "  def forward(self, x):\n",
        "    x = x.view(x.size(0), -1)\n",
        "    x = self.relu(self.fc1(x))\n",
        "    x = self.relu(self.fc2(x))\n",
        "    x = self.relu(self.fc3(x))\n",
        "    x = self.relu(self.fc4(x))\n",
        "    x = self.fc5(x)\n",
        "\n",
        "    return x\n",
        "\n",
        "model = FeedForwardNN()\n",
        "criterion = nn.CrossEntropyLoss()\n",
        "optimizer = optim.Adam(model.parameters(), lr=0.001)"
      ],
      "metadata": {
        "id": "-iMMq2xE0kOG"
      },
      "execution_count": null,
      "outputs": []
    },
    {
      "cell_type": "code",
      "source": [
        "num_epochs = 10\n",
        "for epoch in range(num_epochs):\n",
        "  running_loss = 0.0\n",
        "  for i, (images, lables) in enumerate(trainloader):\n",
        "    # Forward pass\n",
        "    outputs = model(images)\n",
        "    loss = criterion(outputs, lables)\n",
        "\n",
        "    # Backward and optimize\n",
        "    optimizer.zero_grad()\n",
        "    loss.backward()\n",
        "    optimizer.step()\n",
        "\n",
        "    running_loss += loss.item()\n",
        "    if (i+1) % 100 == 0:\n",
        "      print('Epoch [{}/{}], Step [{}/{}], Loss {:.4f}'.format(epoch+1, num_epochs, i+1, len(trainloader), running_loss / 100))\n",
        "      running_loss = 0.0\n",
        "print('Finished Training')"
      ],
      "metadata": {
        "colab": {
          "base_uri": "https://localhost:8080/"
        },
        "id": "9x2TlymU2Op2",
        "outputId": "2882867e-8204-48bd-db79-adffb10a4f19"
      },
      "execution_count": null,
      "outputs": [
        {
          "output_type": "stream",
          "name": "stdout",
          "text": [
            "Epoch [1/10], Step [100/938], Loss 1.1135\n",
            "Epoch [1/10], Step [200/938], Loss 0.4836\n",
            "Epoch [1/10], Step [300/938], Loss 0.3884\n",
            "Epoch [1/10], Step [400/938], Loss 0.3362\n",
            "Epoch [1/10], Step [500/938], Loss 0.2910\n",
            "Epoch [1/10], Step [600/938], Loss 0.2616\n",
            "Epoch [1/10], Step [700/938], Loss 0.2385\n",
            "Epoch [1/10], Step [800/938], Loss 0.2041\n",
            "Epoch [1/10], Step [900/938], Loss 0.2027\n",
            "Epoch [2/10], Step [100/938], Loss 0.1847\n",
            "Epoch [2/10], Step [200/938], Loss 0.1720\n",
            "Epoch [2/10], Step [300/938], Loss 0.1676\n",
            "Epoch [2/10], Step [400/938], Loss 0.1587\n",
            "Epoch [2/10], Step [500/938], Loss 0.1505\n",
            "Epoch [2/10], Step [600/938], Loss 0.1550\n",
            "Epoch [2/10], Step [700/938], Loss 0.1477\n",
            "Epoch [2/10], Step [800/938], Loss 0.1533\n",
            "Epoch [2/10], Step [900/938], Loss 0.1487\n",
            "Epoch [3/10], Step [100/938], Loss 0.1251\n",
            "Epoch [3/10], Step [200/938], Loss 0.1169\n",
            "Epoch [3/10], Step [300/938], Loss 0.1275\n",
            "Epoch [3/10], Step [400/938], Loss 0.1137\n",
            "Epoch [3/10], Step [500/938], Loss 0.1091\n",
            "Epoch [3/10], Step [600/938], Loss 0.1282\n",
            "Epoch [3/10], Step [700/938], Loss 0.1196\n",
            "Epoch [3/10], Step [800/938], Loss 0.1294\n",
            "Epoch [3/10], Step [900/938], Loss 0.1112\n",
            "Epoch [4/10], Step [100/938], Loss 0.0866\n",
            "Epoch [4/10], Step [200/938], Loss 0.0942\n",
            "Epoch [4/10], Step [300/938], Loss 0.0955\n",
            "Epoch [4/10], Step [400/938], Loss 0.1062\n",
            "Epoch [4/10], Step [500/938], Loss 0.1012\n",
            "Epoch [4/10], Step [600/938], Loss 0.0982\n",
            "Epoch [4/10], Step [700/938], Loss 0.0978\n",
            "Epoch [4/10], Step [800/938], Loss 0.0909\n",
            "Epoch [4/10], Step [900/938], Loss 0.0979\n",
            "Epoch [5/10], Step [100/938], Loss 0.0873\n",
            "Epoch [5/10], Step [200/938], Loss 0.0921\n",
            "Epoch [5/10], Step [300/938], Loss 0.0832\n",
            "Epoch [5/10], Step [400/938], Loss 0.0802\n",
            "Epoch [5/10], Step [500/938], Loss 0.0660\n",
            "Epoch [5/10], Step [600/938], Loss 0.0917\n",
            "Epoch [5/10], Step [700/938], Loss 0.0855\n",
            "Epoch [5/10], Step [800/938], Loss 0.0822\n",
            "Epoch [5/10], Step [900/938], Loss 0.0910\n",
            "Epoch [6/10], Step [100/938], Loss 0.0649\n",
            "Epoch [6/10], Step [200/938], Loss 0.0611\n",
            "Epoch [6/10], Step [300/938], Loss 0.0951\n",
            "Epoch [6/10], Step [400/938], Loss 0.0809\n",
            "Epoch [6/10], Step [500/938], Loss 0.0705\n",
            "Epoch [6/10], Step [600/938], Loss 0.0713\n",
            "Epoch [6/10], Step [700/938], Loss 0.0819\n",
            "Epoch [6/10], Step [800/938], Loss 0.0788\n",
            "Epoch [6/10], Step [900/938], Loss 0.0743\n",
            "Epoch [7/10], Step [100/938], Loss 0.0587\n",
            "Epoch [7/10], Step [200/938], Loss 0.0693\n",
            "Epoch [7/10], Step [300/938], Loss 0.0582\n",
            "Epoch [7/10], Step [400/938], Loss 0.0726\n",
            "Epoch [7/10], Step [500/938], Loss 0.0680\n",
            "Epoch [7/10], Step [600/938], Loss 0.0697\n",
            "Epoch [7/10], Step [700/938], Loss 0.0637\n",
            "Epoch [7/10], Step [800/938], Loss 0.0591\n",
            "Epoch [7/10], Step [900/938], Loss 0.0638\n",
            "Epoch [8/10], Step [100/938], Loss 0.0552\n",
            "Epoch [8/10], Step [200/938], Loss 0.0493\n",
            "Epoch [8/10], Step [300/938], Loss 0.0585\n",
            "Epoch [8/10], Step [400/938], Loss 0.0698\n",
            "Epoch [8/10], Step [500/938], Loss 0.0649\n",
            "Epoch [8/10], Step [600/938], Loss 0.0556\n",
            "Epoch [8/10], Step [700/938], Loss 0.0621\n",
            "Epoch [8/10], Step [800/938], Loss 0.0541\n",
            "Epoch [8/10], Step [900/938], Loss 0.0535\n",
            "Epoch [9/10], Step [100/938], Loss 0.0579\n",
            "Epoch [9/10], Step [200/938], Loss 0.0542\n",
            "Epoch [9/10], Step [300/938], Loss 0.0503\n",
            "Epoch [9/10], Step [400/938], Loss 0.0550\n",
            "Epoch [9/10], Step [500/938], Loss 0.0524\n",
            "Epoch [9/10], Step [600/938], Loss 0.0539\n",
            "Epoch [9/10], Step [700/938], Loss 0.0560\n",
            "Epoch [9/10], Step [800/938], Loss 0.0607\n",
            "Epoch [9/10], Step [900/938], Loss 0.0556\n",
            "Epoch [10/10], Step [100/938], Loss 0.0442\n",
            "Epoch [10/10], Step [200/938], Loss 0.0455\n",
            "Epoch [10/10], Step [300/938], Loss 0.0494\n",
            "Epoch [10/10], Step [400/938], Loss 0.0513\n",
            "Epoch [10/10], Step [500/938], Loss 0.0412\n",
            "Epoch [10/10], Step [600/938], Loss 0.0616\n",
            "Epoch [10/10], Step [700/938], Loss 0.0443\n",
            "Epoch [10/10], Step [800/938], Loss 0.0479\n",
            "Epoch [10/10], Step [900/938], Loss 0.0342\n",
            "Finished Training\n"
          ]
        }
      ]
    },
    {
      "cell_type": "code",
      "source": [
        "# Testing the model\n",
        "correct = 0\n",
        "total = 0\n",
        "with torch.no_grad():\n",
        "  for images, lables in testloader:\n",
        "    outputs = model(images)\n",
        "    _, predicted = torch.max(outputs.data, 1)\n",
        "    total += lables.size(0)\n",
        "    correct += (predicted == lables).sum().item()\n",
        "\n",
        "print('Accuracy of the network on the 10000 test images: {} %'.format(100 * correct / total))"
      ],
      "metadata": {
        "colab": {
          "base_uri": "https://localhost:8080/"
        },
        "id": "5wnnCEyT3bku",
        "outputId": "33777b44-7e53-4fb6-9f5e-7a67c454f613"
      },
      "execution_count": null,
      "outputs": [
        {
          "output_type": "stream",
          "name": "stdout",
          "text": [
            "Accuracy of the network on the 10000 test images: 96.71 %\n"
          ]
        }
      ]
    },
    {
      "cell_type": "markdown",
      "source": [
        "# Showing some sample test images and their prediction by the model"
      ],
      "metadata": {
        "id": "2CBmar-D4ipz"
      }
    },
    {
      "cell_type": "code",
      "source": [
        "import matplotlib.pyplot as plt\n",
        "\n",
        "model.eval()\n",
        "data, target = testset[214]\n",
        "data = data.unsqueeze(0)\n",
        "output = model(data)\n",
        "prediction = output.argmax(dim=1, keepdim=True).item()\n",
        "print(f'Prediction: {prediction}')\n",
        "image = data.squeeze(0).squeeze(0).numpy()\n",
        "plt.imshow(image)\n",
        "plt.show()"
      ],
      "metadata": {
        "colab": {
          "base_uri": "https://localhost:8080/"
        },
        "id": "yhj1eaxX4teZ",
        "outputId": "b1cc19a7-47be-458d-b29f-3282a8ab7e64"
      },
      "execution_count": null,
      "outputs": [
        {
          "output_type": "stream",
          "name": "stdout",
          "text": [
            "Prediction: 9\n"
          ]
        },
        {
          "output_type": "display_data",
          "data": {
            "text/plain": [
              "<Figure size 640x480 with 1 Axes>"
            ],
            "image/png": "[encoded data removed]"
          },
          "metadata": {}
        }
      ]
    },
    {
      "cell_type": "code",
      "source": [
        "model.fc1.weight"
      ],
      "metadata": {
        "colab": {
          "base_uri": "https://localhost:8080/"
        },
        "id": "NZFkPvv80FId",
        "outputId": "f4d946e8-b4ef-4ee3-c609-e1c10a3814f9"
      },
      "execution_count": null,
      "outputs": [
        {
          "output_type": "execute_result",
          "data": {
            "text/plain": [
              "Parameter containing:\n",
              "tensor([[ 0.0334,  0.0331,  0.0225,  ...,  0.0275, -0.0046,  0.0025],\n",
              "        [ 0.0014,  0.0269, -0.0276,  ...,  0.0276,  0.0292,  0.0037],\n",
              "        [ 0.0051,  0.0355, -0.0115,  ..., -0.0201, -0.0261,  0.0288],\n",
              "        ...,\n",
              "        [ 0.0055, -0.0166,  0.0031,  ...,  0.0180, -0.0005,  0.0193],\n",
              "        [ 0.0073,  0.0188,  0.0073,  ...,  0.0104,  0.0344,  0.0065],\n",
              "        [-0.0136,  0.0167, -0.0272,  ..., -0.0106, -0.0104, -0.0173]],\n",
              "       requires_grad=True)"
            ]
          },
          "metadata": {},
          "execution_count": 18
        }
      ]
    },
    {
      "cell_type": "code",
      "source": [
        "new_model = FeedForwardNN()\n",
        "new_model.load_state_dict(model.state_dict())\n",
        "\n",
        "parameters_to_prune = (\n",
        "    (model.fc1, 'weight'),\n",
        "    (model.fc2, 'weight'),\n",
        "    (model.fc3, 'weight'),\n",
        "    (model.fc4, 'weight'),\n",
        "    (model.fc5, 'weight')\n",
        ")\n",
        "\n",
        "prune.global_unstructured(\n",
        "    parameters_to_prune,\n",
        "    pruning_method=prune.L1Unstructured,\n",
        "    amount=0.39,  # prune 39% of connections\n",
        ")\n",
        "\n",
        "prune.remove(model.fc1, 'weight')\n",
        "prune.remove(model.fc2, 'weight')\n",
        "prune.remove(model.fc3, 'weight')\n",
        "prune.remove(model.fc4, 'weight')\n",
        "prune.remove(model.fc5, 'weight')"
      ],
      "metadata": {
        "colab": {
          "base_uri": "https://localhost:8080/"
        },
        "id": "3_QdnrRuwc--",
        "outputId": "36ce911d-3057-4dc8-b901-2a77155dbc65"
      },
      "execution_count": null,
      "outputs": [
        {
          "output_type": "execute_result",
          "data": {
            "text/plain": [
              "Linear(in_features=64, out_features=10, bias=True)"
            ]
          },
          "metadata": {},
          "execution_count": 19
        }
      ]
    },
    {
      "cell_type": "code",
      "source": [
        "# # Testing the model\n",
        "# correct = 0\n",
        "# total = 0\n",
        "# with torch.no_grad():\n",
        "#   for images, lables in testloader:\n",
        "#     outputs = new_model(images)\n",
        "#     _, predicted = torch.max(outputs.data, 1)\n",
        "#     total += lables.size(0)\n",
        "#     correct += (predicted == lables).sum().item()\n",
        "\n",
        "# print('Accuracy of the network on the 10000 test images: {} %'.format(100 * correct / total))"
      ],
      "metadata": {
        "id": "plMqc-gNCR3M"
      },
      "execution_count": null,
      "outputs": []
    },
    {
      "cell_type": "code",
      "source": [
        "torch.backends.quantized.engine = 'qnnpack'\n",
        "\n",
        "quantized_model = torch.quantization.quantize_dynamic(\n",
        "    model, {torch.nn.Linear}, dtype=torch.qint8\n",
        ")"
      ],
      "metadata": {
        "id": "THz53eLBcQyR"
      },
      "execution_count": null,
      "outputs": []
    },
    {
      "cell_type": "code",
      "source": [
        "# Testing the model\n",
        "correct = 0\n",
        "total = 0\n",
        "with torch.no_grad():\n",
        "  for images, lables in testloader:\n",
        "    outputs = quantized_model(images)\n",
        "    _, predicted = torch.max(outputs.data, 1)\n",
        "    total += lables.size(0)\n",
        "    correct += (predicted == lables).sum().item()\n",
        "\n",
        "print('Accuracy of the network on the 10000 test images: {} %'.format(100 * correct / total))"
      ],
      "metadata": {
        "colab": {
          "base_uri": "https://localhost:8080/"
        },
        "id": "VqPosFKKqYs1",
        "outputId": "692d4b67-9bca-46a1-f8d0-670e0a07a3d3"
      },
      "execution_count": null,
      "outputs": [
        {
          "output_type": "stream",
          "name": "stdout",
          "text": [
            "Accuracy of the network on the 10000 test images: 96.59 %\n"
          ]
        }
      ]
    },
    {
      "cell_type": "code",
      "source": [
        "for name, params in quantized_model.named_parameters():\n",
        "  if 'weight' in name:\n",
        "    x_abs=abs(params)\n",
        "    # print(x_abs)\n",
        "    y=torch.max(x_abs)\n",
        "    z=torch.min(x_abs)\n",
        "    # print(z)\n",
        "    # print(y)\n",
        "    a = x_abs.detach().numpy().flatten()\n",
        "    a = np.sort(a)\n",
        "    # print(a)\n",
        "    leng=len(a)\n",
        "    # print(leng)\n",
        "    # print(a[leng//20])\n",
        "    with torch.no_grad():\n",
        "      for i, r in enumerate(params):\n",
        "        for j, c in enumerate(r):\n",
        "          if abs(c) < a[int(leng*0.4)]:\n",
        "             params[i][j] = 0\n",
        "\n",
        "    print(name, params)\n",
        "    print('legth %d',leng)"
      ],
      "metadata": {
        "id": "IGjlP6CmvXvt"
      },
      "execution_count": null,
      "outputs": []
    },
    {
      "cell_type": "code",
      "source": [
        "\n",
        "# updated=model.fc1.weight.detach()\n",
        "# x_abs=abs(model.fc1.weight)\n",
        "# print(x_abs)\n",
        "# y=torch.max(x_abs)\n",
        "# z=torch.min(x_abs)\n",
        "# print(z)\n",
        "# print(y)\n",
        "# a = x_abs.detach().numpy().flatten()\n",
        "# a = np.sort(a)\n",
        "# print(a)\n",
        "# leng=len(a)\n",
        "# print(leng)\n",
        "# print(a[leng//20])\n",
        "# for i, r in enumerate(updated):\n",
        "#   for j, c in enumerate(r):\n",
        "#     if abs(c) < a[leng//20]:\n",
        "#       updated[i][j] = 0\n",
        "\n",
        "# print(updated)"
      ],
      "metadata": {
        "id": "4S8HySG44JHX"
      },
      "execution_count": null,
      "outputs": []
    },
    {
      "cell_type": "code",
      "source": [
        "# Testing the model\n",
        "def print_model_size(mdl):\n",
        "    torch.save(mdl.state_dict(), \"tmp.pt\")\n",
        "    print(\"%.2f KB\" %(os.path.getsize(\"tmp.pt\")/1e3))\n",
        "    os.remove('tmp.pt')\n",
        "quantized_model.eval()\n",
        "\n",
        "correct = 0\n",
        "total = 0\n",
        "with torch.no_grad():\n",
        "    for images, labels in testloader:\n",
        "        outputs = quantized_model(images)\n",
        "        _, predicted = torch.max(outputs.data, 1)\n",
        "        total += labels.size(0)\n",
        "        correct += (predicted == labels).sum().item()\n",
        "\n",
        "print('Accuracy of the network on the 10000 test images: {} %, {} / {}'.format((100 * correct / total), correct, total))\n",
        "print_model_size(quantized_model)"
      ],
      "metadata": {
        "colab": {
          "base_uri": "https://localhost:8080/"
        },
        "id": "rb7_9oSU3lHi",
        "outputId": "5b5e093d-ebf5-442f-cb57-5904cf6ee777"
      },
      "execution_count": null,
      "outputs": [
        {
          "output_type": "stream",
          "name": "stdout",
          "text": [
            "Accuracy of the network on the 10000 test images: 96.59 %, 9659 / 10000\n",
            "583.80 KB\n"
          ]
        }
      ]
    },
    {
      "cell_type": "code",
      "source": [],
      "metadata": {
        "id": "KNLEFoti3qQQ"
      },
      "execution_count": null,
      "outputs": []
    }
  ]
}